{
 "cells": [
  {
   "cell_type": "code",
   "execution_count": 1,
   "id": "c02cd5b8",
   "metadata": {},
   "outputs": [],
   "source": [
    "import boto3\n",
    "import json\n",
    "import concurrent.futures"
   ]
  },
  {
   "cell_type": "code",
   "execution_count": 2,
   "id": "1381f6c5",
   "metadata": {},
   "outputs": [],
   "source": [
    "source_coop_credentials = {\n",
    "    'region_name': 'us-west-2',\n",
    "    'AWS_ACCESS_KEY_ID': 'xxx',\n",
    "    'AWS_SECRET_ACCESS_KEY': 'xxx',\n",
    "    'AWS_SESSION_TOKEN': 'xxx'\n",
    "}"
   ]
  },
  {
   "cell_type": "markdown",
   "id": "480c9897",
   "metadata": {},
   "source": [
    "First get the file size using the credentials:"
   ]
  },
  {
   "cell_type": "code",
   "execution_count": 3,
   "id": "846f12d4",
   "metadata": {},
   "outputs": [
    {
     "name": "stdout",
     "output_type": "stream",
     "text": [
      "Object Size: 127293340693\n"
     ]
    }
   ],
   "source": [
    "# Create a session from the dictionary\n",
    "read_session = boto3.Session(\n",
    "    aws_access_key_id=source_coop_credentials['AWS_ACCESS_KEY_ID'],\n",
    "    aws_secret_access_key=source_coop_credentials['AWS_SECRET_ACCESS_KEY'],\n",
    "    aws_session_token=source_coop_credentials['AWS_SESSION_TOKEN'],\n",
    "    region_name=source_coop_credentials['region_name']\n",
    ")\n",
    "\n",
    "\n",
    "# Create an S3 client from the session\n",
    "read_s3_client = read_session.client('s3')\n",
    "\n",
    "# Use the S3 client to get object metadata\n",
    "source_name = 'us-west-2.opendata.source.coop'\n",
    "source_key = 'protomaps/openstreetmap/tiles/v3.pmtiles'\n",
    "metadata = read_s3_client.head_object(Bucket=source_name, Key=source_key)\n",
    "object_size = metadata['ContentLength']\n",
    "\n",
    "print(f'Object Size: {object_size}')"
   ]
  },
  {
   "cell_type": "markdown",
   "id": "3202b6d7",
   "metadata": {},
   "source": [
    "Now initialise a multipart upload"
   ]
  },
  {
   "cell_type": "code",
   "execution_count": 10,
   "id": "07fea839",
   "metadata": {},
   "outputs": [],
   "source": [
    "def invoke_lambda(lambda_function_name, read_credentials, source_name, source_key, upload_id, part_num, byte_position, part_size):\n",
    "    lambda_client = boto3.client('lambda')\n",
    "    response = lambda_client.invoke(\n",
    "        FunctionName=lambda_function_name,\n",
    "        InvocationType='RequestResponse',\n",
    "        Payload=json.dumps({\n",
    "            'credentials': read_credentials,\n",
    "            'source_bucket': source_name,\n",
    "            'source_key': source_key,\n",
    "            'upload_id': upload_id,\n",
    "            'part_num': part_num,\n",
    "            'byte_position': byte_position,\n",
    "            'part_size': part_size,\n",
    "        })\n",
    "    )\n",
    "    \n",
    "    response_payload = json.loads(response['Payload'].read())\n",
    "    #return response_payload\n",
    "    if response_payload['ResponseMetadata']['HTTPStatusCode'] == 200:\n",
    "        return {'PartNumber': part_num, 'ETag': response_payload['ETag']}\n",
    "    else:\n",
    "        return {'PartNumber': part_num, 'ETag': 'Failed'}\n"
   ]
  },
  {
   "cell_type": "markdown",
   "id": "1396a166",
   "metadata": {},
   "source": [
    "initiate multipart upload"
   ]
  },
  {
   "cell_type": "code",
   "execution_count": 11,
   "id": "32a2a2cf",
   "metadata": {},
   "outputs": [],
   "source": [
    "s3_client = boto3.client('s3')\n",
    "init_response = s3_client.create_multipart_upload(Bucket='my-pmtiles-basemap', Key='v3.pmtiles')"
   ]
  },
  {
   "cell_type": "code",
   "execution_count": 12,
   "id": "6bc08772",
   "metadata": {},
   "outputs": [],
   "source": [
    "upload_id = init_response['UploadId']"
   ]
  },
  {
   "cell_type": "code",
   "execution_count": 13,
   "id": "6c9f1a09",
   "metadata": {},
   "outputs": [],
   "source": [
    "part_size = 1000 * 1024 * 1024  # Set your part size here, e.g., 1000 MB parts\n",
    "lambda_function_name = 'MyPmtilesStack-FetchLatestPMtilesEFB78E2C-fq8HioDfVDCa'"
   ]
  },
  {
   "cell_type": "code",
   "execution_count": 14,
   "id": "07ecc987",
   "metadata": {},
   "outputs": [
    {
     "data": {
      "text/plain": [
       "122"
      ]
     },
     "execution_count": 14,
     "metadata": {},
     "output_type": "execute_result"
    }
   ],
   "source": [
    "num_parts = (object_size + part_size - 1) // part_size\n",
    "num_parts"
   ]
  },
  {
   "cell_type": "code",
   "execution_count": 15,
   "id": "5bb750be",
   "metadata": {},
   "outputs": [],
   "source": [
    "def invoke_lambda_wrapper(part_num):\n",
    "    byte_position = part_num * part_size\n",
    "    actual_part_size = min(part_size, object_size - byte_position)\n",
    "    return invoke_lambda(\n",
    "        lambda_function_name,\n",
    "        source_coop_credentials,\n",
    "        source_name,\n",
    "        source_key,\n",
    "        upload_id,\n",
    "        part_num + 1,   # 1 indexed not 0\n",
    "        byte_position,\n",
    "        actual_part_size\n",
    "    )\n",
    "\n",
    "parts = []\n",
    "with concurrent.futures.ThreadPoolExecutor(max_workers=10) as executor:\n",
    "    futures = [executor.submit(invoke_lambda_wrapper, part_num) for part_num in range(num_parts)]\n",
    "    for future in concurrent.futures.as_completed(futures):\n",
    "        parts.append(future.result())"
   ]
  },
  {
   "cell_type": "code",
   "execution_count": 16,
   "id": "048e9ac7",
   "metadata": {},
   "outputs": [],
   "source": [
    "failed = []\n",
    "for part in parts:\n",
    "    if part['ETag'] == 'failed':\n",
    "        failed.append(part)\n",
    "\n",
    "if len(failed) > 0:\n",
    "    print(failed)\n",
    "    #break"
   ]
  },
  {
   "cell_type": "code",
   "execution_count": 21,
   "id": "1159d578",
   "metadata": {},
   "outputs": [],
   "source": [
    "sorted_parts = sorted(parts, key=lambda x: x['PartNumber'])"
   ]
  },
  {
   "cell_type": "code",
   "execution_count": 23,
   "id": "aaecbdea",
   "metadata": {},
   "outputs": [
    {
     "data": {
      "text/plain": [
       "[{'PartNumber': 1, 'ETag': '\"6ec63934173788dddf5b4e06c1ea76cb\"'},\n",
       " {'PartNumber': 2, 'ETag': '\"8be2dd1f1abc5b3b2728abb7a1f3c8bf\"'},\n",
       " {'PartNumber': 3, 'ETag': '\"0d06639acac67805cbee376ab1b2b659\"'},\n",
       " {'PartNumber': 4, 'ETag': '\"67fb4700229e0770af6e32f16d3a4999\"'},\n",
       " {'PartNumber': 5, 'ETag': '\"4d8a5fd33eb4ad544ceebc40223d7d65\"'},\n",
       " {'PartNumber': 6, 'ETag': '\"573ea6cce2c44f047a888bde2f775672\"'},\n",
       " {'PartNumber': 7, 'ETag': '\"63dd999049c812b4d99886ae9ca67d4f\"'},\n",
       " {'PartNumber': 8, 'ETag': '\"65c338799f273fc7722b4cd22d077bf1\"'},\n",
       " {'PartNumber': 9, 'ETag': '\"85ec0ce1ef4a063fa6fae21405b4f68f\"'},\n",
       " {'PartNumber': 10, 'ETag': '\"a7078aa05649f735ff34ad22006f7932\"'},\n",
       " {'PartNumber': 11, 'ETag': '\"91ba64f94222b36a9a69cc2c65b3ff76\"'},\n",
       " {'PartNumber': 12, 'ETag': '\"3ec8e1ee7a52073c6995a72df904aa76\"'},\n",
       " {'PartNumber': 13, 'ETag': '\"631fbc30226bf7347826e5c3bb622493\"'},\n",
       " {'PartNumber': 14, 'ETag': '\"a851665ed7b06e80947f67ad20b859bb\"'},\n",
       " {'PartNumber': 15, 'ETag': '\"957cf1d3bd2cfb04ffd8673d1e9ff913\"'},\n",
       " {'PartNumber': 16, 'ETag': '\"d1d407fdf9d457ebbb7a17c376b41389\"'},\n",
       " {'PartNumber': 17, 'ETag': '\"95331f5db52c6a85b9835f38eefeceeb\"'},\n",
       " {'PartNumber': 18, 'ETag': '\"49f33b7bbb22a35dafeda5904b83b17f\"'},\n",
       " {'PartNumber': 19, 'ETag': '\"eb8f360c0e6ff68bbb1e24f736cc70a0\"'},\n",
       " {'PartNumber': 20, 'ETag': '\"9bab5a4ed6b3b32e8b5ffa02da4e5a97\"'},\n",
       " {'PartNumber': 21, 'ETag': '\"6f3979f0b18881406a77889b5ddb68a5\"'},\n",
       " {'PartNumber': 22, 'ETag': '\"cc68e9f5ec02f68831dfe297f5889336\"'},\n",
       " {'PartNumber': 23, 'ETag': '\"aedf98bbbfcb91145af6866c655714d8\"'},\n",
       " {'PartNumber': 24, 'ETag': '\"ae793892d62ae14a935237142fc3884e\"'},\n",
       " {'PartNumber': 25, 'ETag': '\"4add848849cf887cbb5dcfa537e12284\"'},\n",
       " {'PartNumber': 26, 'ETag': '\"1bd12c548cc3bee611db54d230380626\"'},\n",
       " {'PartNumber': 27, 'ETag': '\"cee6a522a752e0c5b6d8689a39b3cbc0\"'},\n",
       " {'PartNumber': 28, 'ETag': '\"dde7b89ec9c2f5b233f1f766a0136c62\"'},\n",
       " {'PartNumber': 29, 'ETag': '\"24b45cb2caa4c90e935719dbe7445583\"'},\n",
       " {'PartNumber': 30, 'ETag': '\"4cf79386741171fb5a27d2653b81204a\"'},\n",
       " {'PartNumber': 31, 'ETag': '\"2df493c79525e8aa7adbf79406f9af88\"'},\n",
       " {'PartNumber': 32, 'ETag': '\"80cae0299c059225f9adc77dfd87c7ae\"'},\n",
       " {'PartNumber': 33, 'ETag': '\"58d4328be7f933160b4e57bebc66c540\"'},\n",
       " {'PartNumber': 34, 'ETag': '\"556cce77076f3fcb57bb20f09db95c2d\"'},\n",
       " {'PartNumber': 35, 'ETag': '\"aeec49de41bfe6c29686e72b5d04425d\"'},\n",
       " {'PartNumber': 36, 'ETag': '\"e60b52841ddb97d1a8b290a23901d3d6\"'},\n",
       " {'PartNumber': 37, 'ETag': '\"56918b8ce9291b649fea256f65a34370\"'},\n",
       " {'PartNumber': 38, 'ETag': '\"795585a01419fce5296caec60698da4a\"'},\n",
       " {'PartNumber': 39, 'ETag': '\"996da597e2ac7ea7794fcc020f709d08\"'},\n",
       " {'PartNumber': 40, 'ETag': '\"dc72a03b81f9b304c1e00a3f367bfd6a\"'},\n",
       " {'PartNumber': 41, 'ETag': '\"62ec6ca258a08646231ee8fd77d23cd7\"'},\n",
       " {'PartNumber': 42, 'ETag': '\"622344e3cd36162238b6fa0d1864967b\"'},\n",
       " {'PartNumber': 43, 'ETag': '\"afc787454c7444ee76b4ad47d2a58fb1\"'},\n",
       " {'PartNumber': 44, 'ETag': '\"837e1d1638e9d1290d8b54dd9b4f974c\"'},\n",
       " {'PartNumber': 45, 'ETag': '\"89cef8ac80b11a2086bb9a34d112afb6\"'},\n",
       " {'PartNumber': 46, 'ETag': '\"615b2a9530cdeb63ae05d2565bbd4cc6\"'},\n",
       " {'PartNumber': 47, 'ETag': '\"222fce37613fb93bf06ad0b99ebf0d60\"'},\n",
       " {'PartNumber': 48, 'ETag': '\"e2902d3153e29a85868dd78e1a4d3dd3\"'},\n",
       " {'PartNumber': 49, 'ETag': '\"fabaa01d824961dc641c4fa279edfa5d\"'},\n",
       " {'PartNumber': 50, 'ETag': '\"69e3160f6d2e5120fc5c533c2f864248\"'},\n",
       " {'PartNumber': 51, 'ETag': '\"ddfc8f98d734fb9332946b29f5096218\"'},\n",
       " {'PartNumber': 52, 'ETag': '\"c1cd223b530d59d734c17a995cf083d7\"'},\n",
       " {'PartNumber': 53, 'ETag': '\"6e6080872850c51f59001e387f3fd737\"'},\n",
       " {'PartNumber': 54, 'ETag': '\"08d7588f0d8f54f66ef5dbccf2a301b1\"'},\n",
       " {'PartNumber': 55, 'ETag': '\"c1d7b5df4879508b299208eaec5f3cd4\"'},\n",
       " {'PartNumber': 56, 'ETag': '\"49b5e7f756c46368d7547d2b5df8e090\"'},\n",
       " {'PartNumber': 57, 'ETag': '\"5390a31340cbeb6faade11448f1f2fb5\"'},\n",
       " {'PartNumber': 58, 'ETag': '\"9231d5d4b0f3dff1066269f55061a166\"'},\n",
       " {'PartNumber': 59, 'ETag': '\"bca753b92bd6661924b4f8912338394e\"'},\n",
       " {'PartNumber': 60, 'ETag': '\"bad2c8fa6827e09d3ca7db82f8e17464\"'},\n",
       " {'PartNumber': 61, 'ETag': '\"39b80a2aea6dba7753541a78800a1810\"'},\n",
       " {'PartNumber': 62, 'ETag': '\"9846b1a603cc86d1da2ebca40f3efd4c\"'},\n",
       " {'PartNumber': 63, 'ETag': '\"05d296e81b41912a3b7b379ec6a607f1\"'},\n",
       " {'PartNumber': 64, 'ETag': '\"ef2f7d8905186b90359279de723ceabb\"'},\n",
       " {'PartNumber': 65, 'ETag': '\"be46cae2e13caf88471e0e8d9cbc0845\"'},\n",
       " {'PartNumber': 66, 'ETag': '\"7e87d086228206f60818d16adb8164d5\"'},\n",
       " {'PartNumber': 67, 'ETag': '\"4f3c6e79c221119026c330a31d2b8353\"'},\n",
       " {'PartNumber': 68, 'ETag': '\"5e637a420a8d52c00add58cb155c4cfb\"'},\n",
       " {'PartNumber': 69, 'ETag': '\"de3851294ba2ba4004e4f304a0a90ac5\"'},\n",
       " {'PartNumber': 70, 'ETag': '\"39a93f80553f64951e72dcac4957ff84\"'},\n",
       " {'PartNumber': 71, 'ETag': '\"8964b8f8a162770a6563c70130356e06\"'},\n",
       " {'PartNumber': 72, 'ETag': '\"5f21d6f734daac17adf5223c6a001b1c\"'},\n",
       " {'PartNumber': 73, 'ETag': '\"87cffbd48d79c3ba94a170434768b286\"'},\n",
       " {'PartNumber': 74, 'ETag': '\"ab66561a17cb44d708927f7fdc75dc70\"'},\n",
       " {'PartNumber': 75, 'ETag': '\"501264799d87f8e89891de87fa4539e0\"'},\n",
       " {'PartNumber': 76, 'ETag': '\"c2966ceb2460adb56626edd6c713b538\"'},\n",
       " {'PartNumber': 77, 'ETag': '\"04cbf3d631ea4b778a1d76193795f689\"'},\n",
       " {'PartNumber': 78, 'ETag': '\"9c2eccb7ce398c684d68460ad9e69826\"'},\n",
       " {'PartNumber': 79, 'ETag': '\"6706efacce28f7af69ede4a5903d77c2\"'},\n",
       " {'PartNumber': 80, 'ETag': '\"83871c93d9f287d0ec558becb403412e\"'},\n",
       " {'PartNumber': 81, 'ETag': '\"8986585b411c4505b636ed6c517bbe53\"'},\n",
       " {'PartNumber': 82, 'ETag': '\"099c38f9c6a48ae423283f21b28e197e\"'},\n",
       " {'PartNumber': 83, 'ETag': '\"cc0cc226153bf6df4f1bae8216deafab\"'},\n",
       " {'PartNumber': 84, 'ETag': '\"11e227baa5fa5088fd2bc41d110fe974\"'},\n",
       " {'PartNumber': 85, 'ETag': '\"9a0802f1329777015e2e9ac1b24701f1\"'},\n",
       " {'PartNumber': 86, 'ETag': '\"85369d2036423cd6f414ed6b6cec3ab0\"'},\n",
       " {'PartNumber': 87, 'ETag': '\"27620a9015dd6ae6540c35638525c062\"'},\n",
       " {'PartNumber': 88, 'ETag': '\"c0189a3d5597cdf6e9f6c2f65ba5c233\"'},\n",
       " {'PartNumber': 89, 'ETag': '\"cb5d8cecc2a95672eccb98d465ac2b4e\"'},\n",
       " {'PartNumber': 90, 'ETag': '\"e1bb08bf3aaf2a937b156af602d997c3\"'},\n",
       " {'PartNumber': 91, 'ETag': '\"e03c6abfe44cba9b17850e5b1a86c7ee\"'},\n",
       " {'PartNumber': 92, 'ETag': '\"9627ee33ad46ad8d84638473e2720d17\"'},\n",
       " {'PartNumber': 93, 'ETag': '\"10f56861ccc09ecc14dfabe217afa6de\"'},\n",
       " {'PartNumber': 94, 'ETag': '\"dd65eecbe8175d6e0db8dd94a4a733c4\"'},\n",
       " {'PartNumber': 95, 'ETag': '\"16071de43bfdca0b2000306b2335ea37\"'},\n",
       " {'PartNumber': 96, 'ETag': '\"a9868f4da1ba01497a791cca6ac885ee\"'},\n",
       " {'PartNumber': 97, 'ETag': '\"de8d68b6f1711334d8913d2e7cb966c5\"'},\n",
       " {'PartNumber': 98, 'ETag': '\"bdf857bbbdd32e40702b226476ed043b\"'},\n",
       " {'PartNumber': 99, 'ETag': '\"bfaf7c81095b1e8ebcf2772c6c7814c5\"'},\n",
       " {'PartNumber': 100, 'ETag': '\"2552096fe73b81bad4a98ed363305cb8\"'},\n",
       " {'PartNumber': 101, 'ETag': '\"6fb927d2eaaf8b7507853010acbf0e65\"'},\n",
       " {'PartNumber': 102, 'ETag': '\"5f0dac775192b142b09c7d22f2707ba1\"'},\n",
       " {'PartNumber': 103, 'ETag': '\"a1b040bc9e0f1208029187c818a910ed\"'},\n",
       " {'PartNumber': 104, 'ETag': '\"2163c56d55a1551f670caa1fcf039c9e\"'},\n",
       " {'PartNumber': 105, 'ETag': '\"47cd81dc6f9ec4e4541f6e0d64642042\"'},\n",
       " {'PartNumber': 106, 'ETag': '\"0699e5f7f931ec33a51a6e10e3d93202\"'},\n",
       " {'PartNumber': 107, 'ETag': '\"bd29afc609576a551732583d30b65684\"'},\n",
       " {'PartNumber': 108, 'ETag': '\"e0865e56e7f7d94a008f4b7db6f02f90\"'},\n",
       " {'PartNumber': 109, 'ETag': '\"11037316605b5c333530a461f6c046c9\"'},\n",
       " {'PartNumber': 110, 'ETag': '\"f49b8f237f68de350e83df0c5a02807b\"'},\n",
       " {'PartNumber': 111, 'ETag': '\"7ad04dcb6e9a14f073f0cb8d7d5dccb8\"'},\n",
       " {'PartNumber': 112, 'ETag': '\"3b35184a2447f506053077d4fe09afd1\"'},\n",
       " {'PartNumber': 113, 'ETag': '\"06982ccc05356af453d9692ca790900e\"'},\n",
       " {'PartNumber': 114, 'ETag': '\"9a71f6c7f2bbb48bd950e9089ca162d1\"'},\n",
       " {'PartNumber': 115, 'ETag': '\"0462c0df060e192d585b7a2c9996aa09\"'},\n",
       " {'PartNumber': 116, 'ETag': '\"3309883228ce066912ec802d1c6f98ca\"'},\n",
       " {'PartNumber': 117, 'ETag': '\"0210661bc2232b237c00e5603550874a\"'},\n",
       " {'PartNumber': 118, 'ETag': '\"b142ff7bf05c22b6362234a89aa4add5\"'},\n",
       " {'PartNumber': 119, 'ETag': '\"f2a89ba3a24fc4c8079036200a384024\"'},\n",
       " {'PartNumber': 120, 'ETag': '\"71786d831b07b9659fd5badf582716da\"'},\n",
       " {'PartNumber': 121, 'ETag': '\"996257d5264b841e18b80af4b5c5a843\"'},\n",
       " {'PartNumber': 122, 'ETag': '\"ca82c414eaa7cbf9ac36ee951655e121\"'}]"
      ]
     },
     "execution_count": 23,
     "metadata": {},
     "output_type": "execute_result"
    }
   ],
   "source": [
    "sorted_parts"
   ]
  },
  {
   "cell_type": "markdown",
   "id": "3f33a3cd",
   "metadata": {},
   "source": [
    "Create parts to upload"
   ]
  },
  {
   "cell_type": "code",
   "execution_count": 24,
   "id": "6b7b3c47",
   "metadata": {},
   "outputs": [],
   "source": [
    "response = s3_client.complete_multipart_upload(\n",
    "    Bucket='my-pmtiles-basemap',\n",
    "    Key='v3.pmtiles',\n",
    "    UploadId=upload_id,\n",
    "    MultipartUpload={\n",
    "        'Parts': sorted_parts\n",
    "    }\n",
    ")"
   ]
  },
  {
   "cell_type": "code",
   "execution_count": 25,
   "id": "4bb4518d",
   "metadata": {},
   "outputs": [
    {
     "data": {
      "text/plain": [
       "{'ResponseMetadata': {'RequestId': 'R1JK56H5T91BQHHA',\n",
       "  'HostId': '0qhr/Q35Zr1Fgjq5iHBYOvloGScUjoTL+wWOx8Jao/bWXgCSfkrCwNYZZ/hog0HqDXbNdRYTTIw=',\n",
       "  'HTTPStatusCode': 200,\n",
       "  'HTTPHeaders': {'x-amz-id-2': '0qhr/Q35Zr1Fgjq5iHBYOvloGScUjoTL+wWOx8Jao/bWXgCSfkrCwNYZZ/hog0HqDXbNdRYTTIw=',\n",
       "   'x-amz-request-id': 'R1JK56H5T91BQHHA',\n",
       "   'date': 'Sun, 04 Aug 2024 17:26:09 GMT',\n",
       "   'x-amz-server-side-encryption': 'AES256',\n",
       "   'content-type': 'application/xml',\n",
       "   'transfer-encoding': 'chunked',\n",
       "   'server': 'AmazonS3'},\n",
       "  'RetryAttempts': 0},\n",
       " 'ServerSideEncryption': 'AES256',\n",
       " 'Location': 'https://my-pmtiles-basemap.s3.us-west-2.amazonaws.com/v3.pmtiles',\n",
       " 'Bucket': 'my-pmtiles-basemap',\n",
       " 'Key': 'v3.pmtiles',\n",
       " 'ETag': '\"d1d05ab354d14aa36670f4fa6d1e3d91-122\"'}"
      ]
     },
     "execution_count": 25,
     "metadata": {},
     "output_type": "execute_result"
    }
   ],
   "source": [
    "response"
   ]
  },
  {
   "cell_type": "code",
   "execution_count": 24,
   "id": "eb62d551",
   "metadata": {},
   "outputs": [],
   "source": [
    "#response = s3_client.abort_multipart_upload(Bucket='my-pmtiles-basemap', Key='v3.pmtiles' ,UploadId=upload_id)"
   ]
  },
  {
   "cell_type": "code",
   "execution_count": 26,
   "id": "ddac49c6",
   "metadata": {},
   "outputs": [],
   "source": [
    "#response"
   ]
  },
  {
   "cell_type": "code",
   "execution_count": null,
   "id": "e22e0ed0",
   "metadata": {},
   "outputs": [],
   "source": []
  }
 ],
 "metadata": {
  "kernelspec": {
   "display_name": "Python [conda env:pangeo] *",
   "language": "python",
   "name": "conda-env-pangeo-py"
  },
  "language_info": {
   "codemirror_mode": {
    "name": "ipython",
    "version": 3
   },
   "file_extension": ".py",
   "mimetype": "text/x-python",
   "name": "python",
   "nbconvert_exporter": "python",
   "pygments_lexer": "ipython3",
   "version": "3.10.10"
  }
 },
 "nbformat": 4,
 "nbformat_minor": 5
}
